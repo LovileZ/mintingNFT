{
 "cells": [
  {
   "cell_type": "code",
   "execution_count": 3,
   "metadata": {},
   "outputs": [],
   "source": [
    "from web3 import Web3\n",
    "import json\n",
    "import os\n",
    "import secrets"
   ]
  },
  {
   "cell_type": "code",
   "execution_count": 9,
   "metadata": {},
   "outputs": [
    {
     "name": "stdout",
     "output_type": "stream",
     "text": [
      "NFT Claimed! Transaction Hash: 0xb57c8fb9e8c61d29344bdbb0de75d45742e3988a1ef65aa1f140e8d35a6f9f7a\n"
     ]
    }
   ],
   "source": [
    "# Configuration\n",
    "AVALANCHE_FUJI_RPC = \"https://api.avax-test.network/ext/bc/C/rpc\"\n",
    "CONTRACT_ADDRESS = \"0x85ac2e065d4526FBeE6a2253389669a12318A412\"\n",
    "PRIVATE_KEY = \"0x82429e0e75ae4201759386e760a55601f6280a8c025366f90f07460915dc2ff4\"\n",
    "WALLET_ADDRESS = \"0x86a11d271dA11aa145cAE9f8396b09Aa4C0530Bb\"\n",
    "\n",
    "# Connect to Web3\n",
    "w3 = Web3(Web3.HTTPProvider(AVALANCHE_FUJI_RPC))\n",
    "\n",
    "if not w3.is_connected():\n",
    "    raise Exception(\"Failed to connect to Avalanche Fuji Testnet\")\n",
    "\n",
    "# Load contract ABI from uploaded file\n",
    "abi_path = \"NFT.abi\"\n",
    "with open(abi_path, \"r\") as abi_file:\n",
    "    contract_abi = json.load(abi_file)\n",
    "\n",
    "# Instantiate contract\n",
    "contract = w3.eth.contract(address=CONTRACT_ADDRESS, abi=contract_abi)\n",
    "\n",
    "def claim_nft():\n",
    "    account = w3.eth.account.from_key(PRIVATE_KEY)\n",
    "    nonce = w3.eth.get_transaction_count(WALLET_ADDRESS)\n",
    "    random_nonce = secrets.token_bytes(32)  # Generate a random 32-byte nonce\n",
    "    \n",
    "    # Pass both arguments to the claim function\n",
    "    txn = contract.functions.claim(WALLET_ADDRESS, random_nonce).build_transaction({\n",
    "        'from': WALLET_ADDRESS,\n",
    "        'gas': 250000,\n",
    "        'gasPrice': w3.to_wei('25', 'gwei'),\n",
    "        'nonce': nonce\n",
    "    })\n",
    "    \n",
    "    signed_txn = w3.eth.account.sign_transaction(txn, private_key=PRIVATE_KEY)\n",
    "    \n",
    "    # Use the correct attribute name for the raw transaction\n",
    "    txn_hash = w3.eth.send_raw_transaction(signed_txn.raw_transaction)\n",
    "    \n",
    "    return w3.to_hex(txn_hash)\n",
    "\n",
    "# Execute minting\n",
    "txn_hash = claim_nft()\n",
    "print(f\"NFT Claimed! Transaction Hash: {txn_hash}\")"
   ]
  }
 ],
 "metadata": {
  "kernelspec": {
   "display_name": "Python 3",
   "language": "python",
   "name": "python3"
  },
  "language_info": {
   "codemirror_mode": {
    "name": "ipython",
    "version": 3
   },
   "file_extension": ".py",
   "mimetype": "text/x-python",
   "name": "python",
   "nbconvert_exporter": "python",
   "pygments_lexer": "ipython3",
   "version": "3.12.0"
  }
 },
 "nbformat": 4,
 "nbformat_minor": 2
}
